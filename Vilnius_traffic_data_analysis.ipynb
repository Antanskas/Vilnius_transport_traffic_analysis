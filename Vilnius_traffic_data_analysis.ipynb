{
 "cells": [
  {
   "cell_type": "markdown",
   "metadata": {
    "heading_collapsed": true
   },
   "source": [
    "# Imports"
   ]
  },
  {
   "cell_type": "code",
   "execution_count": 2,
   "metadata": {
    "hidden": true
   },
   "outputs": [],
   "source": [
    "import matplotlib.pyplot as plt\n",
    "import seaborn as sns\n",
    "from datetime import datetime\n",
    "\n",
    "import geopandas as gpd\n",
    "import pandas as pd\n",
    "import os\n",
    "import re\n",
    "\n",
    "import folium\n",
    "from folium import Choropleth, Circle, Marker\n",
    "from folium.plugins import HeatMap, MarkerCluster"
   ]
  },
  {
   "cell_type": "code",
   "execution_count": 3,
   "metadata": {
    "hidden": true
   },
   "outputs": [],
   "source": [
    "pd.set_option('display.max_rows', None)\n",
    "pd.options.display.max_rows = 100"
   ]
  },
  {
   "cell_type": "code",
   "execution_count": 4,
   "metadata": {
    "hidden": true
   },
   "outputs": [
    {
     "name": "stdout",
     "output_type": "stream",
     "text": [
      "C:\\Users\\Antaniukas\\Desktop\\Vilnius traffic data\\traffic\\2018\\2018_srautai\\\n"
     ]
    }
   ],
   "source": [
    "curr_path = os.getcwd()\n",
    "directory = curr_path + '\\\\2018\\\\2018_srautai\\\\'\n",
    "print(directory)"
   ]
  },
  {
   "cell_type": "markdown",
   "metadata": {
    "heading_collapsed": true
   },
   "source": [
    "# Functions"
   ]
  },
  {
   "cell_type": "code",
   "execution_count": 5,
   "metadata": {
    "hidden": true
   },
   "outputs": [],
   "source": [
    "def get_code_main(row):\n",
    "    return re.findall(r'\\d+', row['Name'])[1]\n",
    "\n",
    "def get_code_coordinates(row):\n",
    "    return re.findall(r'\\d+', row['Node'])[0]\n",
    "\n",
    "def embed_map(m, file_name):\n",
    "    from IPython.display import IFrame\n",
    "    m.save(file_name)\n",
    "    return IFrame(file_name, width='100%', height='500px')\n",
    "\n",
    "def format_x(row):\n",
    "    return float(str(row['x']).replace(',','.'))\n",
    "    \n",
    "def format_y(row):\n",
    "    return float(str(row['y']).replace(',','.'))\n",
    "\n",
    "def color_producer(val):\n",
    "    if val < 109.687623:\n",
    "        return 'forestgreen'\n",
    "    elif val < 141.277798:\n",
    "        return 'darkorange'\n",
    "    elif val < 183.130633:\n",
    "        return 'darkred'\n",
    "    else:\n",
    "        return 'darkblue'\n",
    "    \n",
    "def get_year(row):\n",
    "    return row['Time'].year\n",
    "\n",
    "def get_month(row):\n",
    "    return row['Time'].month\n",
    "\n",
    "def get_day(row):\n",
    "    return row['Time'].day\n",
    "\n",
    "def get_week_day(row):\n",
    "    return row['Time'].weekday()\n",
    "\n",
    "def get_week_day_1(row):\n",
    "    return row['Date'].weekday()\n",
    "\n",
    "def get_hour(row):\n",
    "    return row['Time'].hour\n",
    "\n",
    "def date(row):\n",
    "    return '2018-{}-{}'.format(int(row['Month']), int(row['Day']))\n",
    "\n",
    "def weekends(row):\n",
    "    if row['Week day'] in [5,6]:\n",
    "        return 1 \n",
    "    else:\n",
    "        return 0"
   ]
  },
  {
   "cell_type": "markdown",
   "metadata": {
    "heading_collapsed": true
   },
   "source": [
    "# Load data"
   ]
  },
  {
   "cell_type": "code",
   "execution_count": 146,
   "metadata": {
    "hidden": true
   },
   "outputs": [],
   "source": [
    "df_main = pd.DataFrame()\n",
    "for file in os.listdir(directory):\n",
    "    df_concat = pd.read_csv(directory + file, sep=';')\n",
    "    df_main = pd.concat([df_main, df_concat], ignore_index=True)\n",
    "\n",
    "df_coordinates = pd.read_excel('Sankryzos_koordinatės.XLSX', sheet_name='Lapas1')"
   ]
  },
  {
   "cell_type": "code",
   "execution_count": 147,
   "metadata": {
    "hidden": true
   },
   "outputs": [],
   "source": [
    "df_main.head()"
   ]
  },
  {
   "cell_type": "code",
   "execution_count": 148,
   "metadata": {
    "hidden": true
   },
   "outputs": [],
   "source": [
    "df_coordinates"
   ]
  },
  {
   "cell_type": "markdown",
   "metadata": {
    "heading_collapsed": true
   },
   "source": [
    "# Data aggregations"
   ]
  },
  {
   "cell_type": "markdown",
   "metadata": {
    "hidden": true
   },
   "source": [
    "## Get crossroads codes"
   ]
  },
  {
   "cell_type": "markdown",
   "metadata": {
    "hidden": true
   },
   "source": [
    "To get each crossroad coordinates on main data conntaining dataframe need to extract each crossroad codes on which later will be joined dataframe with all corssroads coordinates"
   ]
  },
  {
   "cell_type": "code",
   "execution_count": 149,
   "metadata": {
    "hidden": true
   },
   "outputs": [],
   "source": [
    "df_main['Code'] = df_main.apply(get_code_main, axis=1)"
   ]
  },
  {
   "cell_type": "markdown",
   "metadata": {
    "hidden": true
   },
   "source": [
    "## Get corssroads coordinates"
   ]
  },
  {
   "cell_type": "markdown",
   "metadata": {
    "hidden": true
   },
   "source": [
    "Extracting each crossroad codes for later joining on that"
   ]
  },
  {
   "cell_type": "code",
   "execution_count": 150,
   "metadata": {
    "hidden": true
   },
   "outputs": [],
   "source": [
    "df_coordinates['Code'] = df_coordinates.apply(get_code_coordinates, axis=1)"
   ]
  },
  {
   "cell_type": "markdown",
   "metadata": {
    "hidden": true
   },
   "source": [
    "## Save intermediate dataframes to csv"
   ]
  },
  {
   "cell_type": "markdown",
   "metadata": {
    "hidden": true
   },
   "source": [
    "Saving semi-aggregated dataframes into csv to avoid doing the same procedures several time because it takes quite a while"
   ]
  },
  {
   "cell_type": "code",
   "execution_count": 151,
   "metadata": {
    "hidden": true
   },
   "outputs": [],
   "source": [
    "df_coordinates.to_csv('coordinates_data_with_codes.csv')\n",
    "df_main.to_csv('main_data_with_codes.csv')"
   ]
  },
  {
   "cell_type": "markdown",
   "metadata": {
    "hidden": true
   },
   "source": [
    "## Datetime aggregations"
   ]
  },
  {
   "cell_type": "markdown",
   "metadata": {
    "hidden": true
   },
   "source": [
    "First we need to convert *Time* columns to datetime type and then extract components like year, month, day, hour for later filtering"
   ]
  },
  {
   "cell_type": "code",
   "execution_count": 4,
   "metadata": {
    "hidden": true
   },
   "outputs": [],
   "source": [
    "df_main = pd.read_csv('main_data_with_codes.csv')"
   ]
  },
  {
   "cell_type": "code",
   "execution_count": 5,
   "metadata": {
    "hidden": true
   },
   "outputs": [],
   "source": [
    "df_main['Time'] = pd.to_datetime(df_main['Time'])"
   ]
  },
  {
   "cell_type": "code",
   "execution_count": 6,
   "metadata": {
    "hidden": true
   },
   "outputs": [],
   "source": [
    "df_main['Month'] = df_main.apply(get_month, axis=1)"
   ]
  },
  {
   "cell_type": "code",
   "execution_count": 7,
   "metadata": {
    "hidden": true
   },
   "outputs": [],
   "source": [
    "df_main['Day'] = df_main.apply(get_day, axis=1)"
   ]
  },
  {
   "cell_type": "code",
   "execution_count": 9,
   "metadata": {
    "hidden": true
   },
   "outputs": [],
   "source": [
    "df_main['Hour'] = df_main.apply(get_hour, axis=1)"
   ]
  },
  {
   "cell_type": "markdown",
   "metadata": {
    "hidden": true
   },
   "source": [
    "Getting week day from *Time* column to filter later by week day and procede analysis based on them ([5,6] - weekend, [7,1,2,3,4] - working days)"
   ]
  },
  {
   "cell_type": "code",
   "execution_count": 8,
   "metadata": {
    "hidden": true
   },
   "outputs": [],
   "source": [
    "df_main['Week day'] = df_main.apply(get_week_day, axis=1)"
   ]
  },
  {
   "cell_type": "markdown",
   "metadata": {
    "heading_collapsed": true,
    "hidden": true
   },
   "source": [
    "## Save intermediate dataframes to csv"
   ]
  },
  {
   "cell_type": "code",
   "execution_count": null,
   "metadata": {
    "hidden": true
   },
   "outputs": [],
   "source": [
    "df_main.to_csv('main_data_with_codes_and_dates.csv')"
   ]
  },
  {
   "cell_type": "markdown",
   "metadata": {
    "hidden": true
   },
   "source": [
    "## Join tables"
   ]
  },
  {
   "cell_type": "code",
   "execution_count": 44,
   "metadata": {
    "hidden": true
   },
   "outputs": [],
   "source": [
    "df = df_main.merge(df_coordinates, on='Code', how='left')"
   ]
  },
  {
   "cell_type": "markdown",
   "metadata": {
    "hidden": true
   },
   "source": [
    "## Save intermediate dataframes to csv"
   ]
  },
  {
   "cell_type": "code",
   "execution_count": 45,
   "metadata": {
    "hidden": true
   },
   "outputs": [],
   "source": [
    "df.to_csv('main_data_with_codes_dates_and_coordinates.csv')"
   ]
  },
  {
   "cell_type": "markdown",
   "metadata": {
    "heading_collapsed": true
   },
   "source": [
    "# Dataframe"
   ]
  },
  {
   "cell_type": "code",
   "execution_count": 156,
   "metadata": {
    "hidden": true
   },
   "outputs": [
    {
     "data": {
      "text/html": [
       "<div>\n",
       "<style scoped>\n",
       "    .dataframe tbody tr th:only-of-type {\n",
       "        vertical-align: middle;\n",
       "    }\n",
       "\n",
       "    .dataframe tbody tr th {\n",
       "        vertical-align: top;\n",
       "    }\n",
       "\n",
       "    .dataframe thead th {\n",
       "        text-align: right;\n",
       "    }\n",
       "</style>\n",
       "<table border=\"1\" class=\"dataframe\">\n",
       "  <thead>\n",
       "    <tr style=\"text-align: right;\">\n",
       "      <th></th>\n",
       "      <th>Name</th>\n",
       "      <th>Time</th>\n",
       "      <th>vol_orig</th>\n",
       "      <th>occ_orig</th>\n",
       "      <th>spd_orig</th>\n",
       "      <th>vol_proc</th>\n",
       "      <th>occ_proc</th>\n",
       "      <th>spd_proc</th>\n",
       "      <th>Code</th>\n",
       "      <th>Month</th>\n",
       "      <th>Day</th>\n",
       "      <th>Week day</th>\n",
       "      <th>Hour</th>\n",
       "      <th>Unnamed: 0_y</th>\n",
       "      <th>Node</th>\n",
       "      <th>x</th>\n",
       "      <th>y</th>\n",
       "    </tr>\n",
       "  </thead>\n",
       "  <tbody>\n",
       "    <tr>\n",
       "      <td>0</td>\n",
       "      <td>ig11FD101_D1</td>\n",
       "      <td>2018-01-04 01:00:00</td>\n",
       "      <td>58.033333</td>\n",
       "      <td>0.325278</td>\n",
       "      <td>0.0</td>\n",
       "      <td>58.033333</td>\n",
       "      <td>0.325278</td>\n",
       "      <td>43.757286</td>\n",
       "      <td>101</td>\n",
       "      <td>1</td>\n",
       "      <td>4</td>\n",
       "      <td>3</td>\n",
       "      <td>1</td>\n",
       "      <td>9.0</td>\n",
       "      <td>K101 Žygimantų-Goštauto-Vilniaus</td>\n",
       "      <td>25,27987</td>\n",
       "      <td>54,690814</td>\n",
       "    </tr>\n",
       "    <tr>\n",
       "      <td>1</td>\n",
       "      <td>ig11FD101_D1</td>\n",
       "      <td>2018-01-04 02:00:00</td>\n",
       "      <td>46.977780</td>\n",
       "      <td>0.349722</td>\n",
       "      <td>0.0</td>\n",
       "      <td>46.977780</td>\n",
       "      <td>0.349722</td>\n",
       "      <td>41.199390</td>\n",
       "      <td>101</td>\n",
       "      <td>1</td>\n",
       "      <td>4</td>\n",
       "      <td>3</td>\n",
       "      <td>2</td>\n",
       "      <td>9.0</td>\n",
       "      <td>K101 Žygimantų-Goštauto-Vilniaus</td>\n",
       "      <td>25,27987</td>\n",
       "      <td>54,690814</td>\n",
       "    </tr>\n",
       "    <tr>\n",
       "      <td>2</td>\n",
       "      <td>ig11FD101_D1</td>\n",
       "      <td>2018-01-04 03:00:00</td>\n",
       "      <td>24.022223</td>\n",
       "      <td>0.150278</td>\n",
       "      <td>0.0</td>\n",
       "      <td>24.022223</td>\n",
       "      <td>0.150278</td>\n",
       "      <td>39.411720</td>\n",
       "      <td>101</td>\n",
       "      <td>1</td>\n",
       "      <td>4</td>\n",
       "      <td>3</td>\n",
       "      <td>3</td>\n",
       "      <td>9.0</td>\n",
       "      <td>K101 Žygimantų-Goštauto-Vilniaus</td>\n",
       "      <td>25,27987</td>\n",
       "      <td>54,690814</td>\n",
       "    </tr>\n",
       "    <tr>\n",
       "      <td>3</td>\n",
       "      <td>ig11FD101_D1</td>\n",
       "      <td>2018-01-04 04:00:00</td>\n",
       "      <td>9.000000</td>\n",
       "      <td>0.000000</td>\n",
       "      <td>0.0</td>\n",
       "      <td>9.000000</td>\n",
       "      <td>0.000000</td>\n",
       "      <td>45.693954</td>\n",
       "      <td>101</td>\n",
       "      <td>1</td>\n",
       "      <td>4</td>\n",
       "      <td>3</td>\n",
       "      <td>4</td>\n",
       "      <td>9.0</td>\n",
       "      <td>K101 Žygimantų-Goštauto-Vilniaus</td>\n",
       "      <td>25,27987</td>\n",
       "      <td>54,690814</td>\n",
       "    </tr>\n",
       "    <tr>\n",
       "      <td>4</td>\n",
       "      <td>ig11FD101_D1</td>\n",
       "      <td>2018-01-04 05:00:00</td>\n",
       "      <td>8.000000</td>\n",
       "      <td>0.025000</td>\n",
       "      <td>0.0</td>\n",
       "      <td>8.000000</td>\n",
       "      <td>0.025000</td>\n",
       "      <td>43.905700</td>\n",
       "      <td>101</td>\n",
       "      <td>1</td>\n",
       "      <td>4</td>\n",
       "      <td>3</td>\n",
       "      <td>5</td>\n",
       "      <td>9.0</td>\n",
       "      <td>K101 Žygimantų-Goštauto-Vilniaus</td>\n",
       "      <td>25,27987</td>\n",
       "      <td>54,690814</td>\n",
       "    </tr>\n",
       "  </tbody>\n",
       "</table>\n",
       "</div>"
      ],
      "text/plain": [
       "           Name                 Time   vol_orig  occ_orig  spd_orig  \\\n",
       "0  ig11FD101_D1  2018-01-04 01:00:00  58.033333  0.325278       0.0   \n",
       "1  ig11FD101_D1  2018-01-04 02:00:00  46.977780  0.349722       0.0   \n",
       "2  ig11FD101_D1  2018-01-04 03:00:00  24.022223  0.150278       0.0   \n",
       "3  ig11FD101_D1  2018-01-04 04:00:00   9.000000  0.000000       0.0   \n",
       "4  ig11FD101_D1  2018-01-04 05:00:00   8.000000  0.025000       0.0   \n",
       "\n",
       "    vol_proc  occ_proc   spd_proc  Code  Month  Day  Week day  Hour  \\\n",
       "0  58.033333  0.325278  43.757286   101      1    4         3     1   \n",
       "1  46.977780  0.349722  41.199390   101      1    4         3     2   \n",
       "2  24.022223  0.150278  39.411720   101      1    4         3     3   \n",
       "3   9.000000  0.000000  45.693954   101      1    4         3     4   \n",
       "4   8.000000  0.025000  43.905700   101      1    4         3     5   \n",
       "\n",
       "   Unnamed: 0_y                              Node         x          y  \n",
       "0           9.0  K101 Žygimantų-Goštauto-Vilniaus  25,27987  54,690814  \n",
       "1           9.0  K101 Žygimantų-Goštauto-Vilniaus  25,27987  54,690814  \n",
       "2           9.0  K101 Žygimantų-Goštauto-Vilniaus  25,27987  54,690814  \n",
       "3           9.0  K101 Žygimantų-Goštauto-Vilniaus  25,27987  54,690814  \n",
       "4           9.0  K101 Žygimantų-Goštauto-Vilniaus  25,27987  54,690814  "
      ]
     },
     "execution_count": 156,
     "metadata": {},
     "output_type": "execute_result"
    }
   ],
   "source": [
    "df.iloc[:,2:].head()"
   ]
  },
  {
   "cell_type": "markdown",
   "metadata": {
    "heading_collapsed": true
   },
   "source": [
    "# Analysis"
   ]
  },
  {
   "cell_type": "markdown",
   "metadata": {
    "heading_collapsed": true,
    "hidden": true
   },
   "source": [
    "## Vilnius city transport volume each month in 2018"
   ]
  },
  {
   "cell_type": "markdown",
   "metadata": {
    "heading_collapsed": true,
    "hidden": true
   },
   "source": [
    "### Group by Time"
   ]
  },
  {
   "cell_type": "markdown",
   "metadata": {
    "hidden": true
   },
   "source": [
    "Grouping data by *Time* column and calculating mean values for each column"
   ]
  },
  {
   "cell_type": "code",
   "execution_count": 69,
   "metadata": {
    "hidden": true
   },
   "outputs": [],
   "source": [
    "df_avg = df[['Time','vol_proc','occ_proc','spd_proc']].groupby('Time').mean().reset_index()"
   ]
  },
  {
   "cell_type": "code",
   "execution_count": 70,
   "metadata": {
    "hidden": true
   },
   "outputs": [],
   "source": [
    "df_avg['Month'] = df_avg.apply(get_month, axis=1)\n",
    "df_avg['Day'] = df_avg.apply(get_day, axis=1)"
   ]
  },
  {
   "cell_type": "code",
   "execution_count": 71,
   "metadata": {
    "hidden": true
   },
   "outputs": [
    {
     "data": {
      "text/html": [
       "<div>\n",
       "<style scoped>\n",
       "    .dataframe tbody tr th:only-of-type {\n",
       "        vertical-align: middle;\n",
       "    }\n",
       "\n",
       "    .dataframe tbody tr th {\n",
       "        vertical-align: top;\n",
       "    }\n",
       "\n",
       "    .dataframe thead th {\n",
       "        text-align: right;\n",
       "    }\n",
       "</style>\n",
       "<table border=\"1\" class=\"dataframe\">\n",
       "  <thead>\n",
       "    <tr style=\"text-align: right;\">\n",
       "      <th></th>\n",
       "      <th>Time</th>\n",
       "      <th>vol_proc</th>\n",
       "      <th>occ_proc</th>\n",
       "      <th>spd_proc</th>\n",
       "      <th>Month</th>\n",
       "      <th>Day</th>\n",
       "    </tr>\n",
       "  </thead>\n",
       "  <tbody>\n",
       "    <tr>\n",
       "      <td>0</td>\n",
       "      <td>2018-01-01 01:00:00</td>\n",
       "      <td>57.541541</td>\n",
       "      <td>1.947869</td>\n",
       "      <td>26.457613</td>\n",
       "      <td>1</td>\n",
       "      <td>1</td>\n",
       "    </tr>\n",
       "    <tr>\n",
       "      <td>1</td>\n",
       "      <td>2018-01-01 02:00:00</td>\n",
       "      <td>59.902122</td>\n",
       "      <td>1.924169</td>\n",
       "      <td>26.589879</td>\n",
       "      <td>1</td>\n",
       "      <td>1</td>\n",
       "    </tr>\n",
       "    <tr>\n",
       "      <td>2</td>\n",
       "      <td>2018-01-01 03:00:00</td>\n",
       "      <td>52.980013</td>\n",
       "      <td>1.772648</td>\n",
       "      <td>26.774494</td>\n",
       "      <td>1</td>\n",
       "      <td>1</td>\n",
       "    </tr>\n",
       "    <tr>\n",
       "      <td>3</td>\n",
       "      <td>2018-01-01 04:00:00</td>\n",
       "      <td>46.220750</td>\n",
       "      <td>1.592535</td>\n",
       "      <td>26.783532</td>\n",
       "      <td>1</td>\n",
       "      <td>1</td>\n",
       "    </tr>\n",
       "    <tr>\n",
       "      <td>4</td>\n",
       "      <td>2018-01-01 05:00:00</td>\n",
       "      <td>39.872090</td>\n",
       "      <td>1.447407</td>\n",
       "      <td>26.754733</td>\n",
       "      <td>1</td>\n",
       "      <td>1</td>\n",
       "    </tr>\n",
       "    <tr>\n",
       "      <td>...</td>\n",
       "      <td>...</td>\n",
       "      <td>...</td>\n",
       "      <td>...</td>\n",
       "      <td>...</td>\n",
       "      <td>...</td>\n",
       "      <td>...</td>\n",
       "    </tr>\n",
       "    <tr>\n",
       "      <td>8754</td>\n",
       "      <td>2018-12-31 20:00:00</td>\n",
       "      <td>134.434864</td>\n",
       "      <td>5.104610</td>\n",
       "      <td>26.817651</td>\n",
       "      <td>12</td>\n",
       "      <td>31</td>\n",
       "    </tr>\n",
       "    <tr>\n",
       "      <td>8755</td>\n",
       "      <td>2018-12-31 21:00:00</td>\n",
       "      <td>115.054258</td>\n",
       "      <td>4.193780</td>\n",
       "      <td>27.147357</td>\n",
       "      <td>12</td>\n",
       "      <td>31</td>\n",
       "    </tr>\n",
       "    <tr>\n",
       "      <td>8756</td>\n",
       "      <td>2018-12-31 22:00:00</td>\n",
       "      <td>89.361298</td>\n",
       "      <td>2.845392</td>\n",
       "      <td>28.058044</td>\n",
       "      <td>12</td>\n",
       "      <td>31</td>\n",
       "    </tr>\n",
       "    <tr>\n",
       "      <td>8757</td>\n",
       "      <td>2018-12-31 23:00:00</td>\n",
       "      <td>62.176573</td>\n",
       "      <td>1.769857</td>\n",
       "      <td>29.021405</td>\n",
       "      <td>12</td>\n",
       "      <td>31</td>\n",
       "    </tr>\n",
       "    <tr>\n",
       "      <td>8758</td>\n",
       "      <td>2019-01-01 00:00:00</td>\n",
       "      <td>60.478083</td>\n",
       "      <td>1.833606</td>\n",
       "      <td>28.755110</td>\n",
       "      <td>1</td>\n",
       "      <td>1</td>\n",
       "    </tr>\n",
       "  </tbody>\n",
       "</table>\n",
       "<p>8759 rows × 6 columns</p>\n",
       "</div>"
      ],
      "text/plain": [
       "                    Time    vol_proc  occ_proc   spd_proc  Month  Day\n",
       "0    2018-01-01 01:00:00   57.541541  1.947869  26.457613      1    1\n",
       "1    2018-01-01 02:00:00   59.902122  1.924169  26.589879      1    1\n",
       "2    2018-01-01 03:00:00   52.980013  1.772648  26.774494      1    1\n",
       "3    2018-01-01 04:00:00   46.220750  1.592535  26.783532      1    1\n",
       "4    2018-01-01 05:00:00   39.872090  1.447407  26.754733      1    1\n",
       "...                  ...         ...       ...        ...    ...  ...\n",
       "8754 2018-12-31 20:00:00  134.434864  5.104610  26.817651     12   31\n",
       "8755 2018-12-31 21:00:00  115.054258  4.193780  27.147357     12   31\n",
       "8756 2018-12-31 22:00:00   89.361298  2.845392  28.058044     12   31\n",
       "8757 2018-12-31 23:00:00   62.176573  1.769857  29.021405     12   31\n",
       "8758 2019-01-01 00:00:00   60.478083  1.833606  28.755110      1    1\n",
       "\n",
       "[8759 rows x 6 columns]"
      ]
     },
     "execution_count": 71,
     "metadata": {},
     "output_type": "execute_result"
    }
   ],
   "source": [
    "df_avg"
   ]
  },
  {
   "cell_type": "code",
   "execution_count": 72,
   "metadata": {
    "hidden": true
   },
   "outputs": [],
   "source": [
    "df_avg = df_avg.groupby(['Month', 'Day']).mean().reset_index()"
   ]
  },
  {
   "cell_type": "code",
   "execution_count": 73,
   "metadata": {
    "hidden": true
   },
   "outputs": [
    {
     "data": {
      "text/html": [
       "<div>\n",
       "<style scoped>\n",
       "    .dataframe tbody tr th:only-of-type {\n",
       "        vertical-align: middle;\n",
       "    }\n",
       "\n",
       "    .dataframe tbody tr th {\n",
       "        vertical-align: top;\n",
       "    }\n",
       "\n",
       "    .dataframe thead th {\n",
       "        text-align: right;\n",
       "    }\n",
       "</style>\n",
       "<table border=\"1\" class=\"dataframe\">\n",
       "  <thead>\n",
       "    <tr style=\"text-align: right;\">\n",
       "      <th></th>\n",
       "      <th>Month</th>\n",
       "      <th>Day</th>\n",
       "      <th>vol_proc</th>\n",
       "      <th>occ_proc</th>\n",
       "      <th>spd_proc</th>\n",
       "    </tr>\n",
       "  </thead>\n",
       "  <tbody>\n",
       "    <tr>\n",
       "      <td>0</td>\n",
       "      <td>1</td>\n",
       "      <td>1</td>\n",
       "      <td>62.991804</td>\n",
       "      <td>2.407073</td>\n",
       "      <td>26.371220</td>\n",
       "    </tr>\n",
       "    <tr>\n",
       "      <td>1</td>\n",
       "      <td>1</td>\n",
       "      <td>2</td>\n",
       "      <td>143.364669</td>\n",
       "      <td>6.621390</td>\n",
       "      <td>23.954374</td>\n",
       "    </tr>\n",
       "    <tr>\n",
       "      <td>2</td>\n",
       "      <td>1</td>\n",
       "      <td>3</td>\n",
       "      <td>153.381370</td>\n",
       "      <td>7.579103</td>\n",
       "      <td>23.024725</td>\n",
       "    </tr>\n",
       "    <tr>\n",
       "      <td>3</td>\n",
       "      <td>1</td>\n",
       "      <td>4</td>\n",
       "      <td>65.443483</td>\n",
       "      <td>2.336598</td>\n",
       "      <td>25.392553</td>\n",
       "    </tr>\n",
       "    <tr>\n",
       "      <td>4</td>\n",
       "      <td>1</td>\n",
       "      <td>5</td>\n",
       "      <td>105.745695</td>\n",
       "      <td>4.489989</td>\n",
       "      <td>24.254795</td>\n",
       "    </tr>\n",
       "    <tr>\n",
       "      <td>...</td>\n",
       "      <td>...</td>\n",
       "      <td>...</td>\n",
       "      <td>...</td>\n",
       "      <td>...</td>\n",
       "      <td>...</td>\n",
       "    </tr>\n",
       "    <tr>\n",
       "      <td>360</td>\n",
       "      <td>12</td>\n",
       "      <td>27</td>\n",
       "      <td>129.337107</td>\n",
       "      <td>5.848969</td>\n",
       "      <td>25.832759</td>\n",
       "    </tr>\n",
       "    <tr>\n",
       "      <td>361</td>\n",
       "      <td>12</td>\n",
       "      <td>28</td>\n",
       "      <td>134.697909</td>\n",
       "      <td>6.221224</td>\n",
       "      <td>25.757006</td>\n",
       "    </tr>\n",
       "    <tr>\n",
       "      <td>362</td>\n",
       "      <td>12</td>\n",
       "      <td>29</td>\n",
       "      <td>103.086081</td>\n",
       "      <td>4.480585</td>\n",
       "      <td>27.089117</td>\n",
       "    </tr>\n",
       "    <tr>\n",
       "      <td>363</td>\n",
       "      <td>12</td>\n",
       "      <td>30</td>\n",
       "      <td>86.862213</td>\n",
       "      <td>3.854772</td>\n",
       "      <td>27.226669</td>\n",
       "    </tr>\n",
       "    <tr>\n",
       "      <td>364</td>\n",
       "      <td>12</td>\n",
       "      <td>31</td>\n",
       "      <td>117.961227</td>\n",
       "      <td>5.404448</td>\n",
       "      <td>25.859908</td>\n",
       "    </tr>\n",
       "  </tbody>\n",
       "</table>\n",
       "<p>365 rows × 5 columns</p>\n",
       "</div>"
      ],
      "text/plain": [
       "     Month  Day    vol_proc  occ_proc   spd_proc\n",
       "0        1    1   62.991804  2.407073  26.371220\n",
       "1        1    2  143.364669  6.621390  23.954374\n",
       "2        1    3  153.381370  7.579103  23.024725\n",
       "3        1    4   65.443483  2.336598  25.392553\n",
       "4        1    5  105.745695  4.489989  24.254795\n",
       "..     ...  ...         ...       ...        ...\n",
       "360     12   27  129.337107  5.848969  25.832759\n",
       "361     12   28  134.697909  6.221224  25.757006\n",
       "362     12   29  103.086081  4.480585  27.089117\n",
       "363     12   30   86.862213  3.854772  27.226669\n",
       "364     12   31  117.961227  5.404448  25.859908\n",
       "\n",
       "[365 rows x 5 columns]"
      ]
     },
     "execution_count": 73,
     "metadata": {},
     "output_type": "execute_result"
    }
   ],
   "source": [
    "df_avg"
   ]
  },
  {
   "cell_type": "code",
   "execution_count": 81,
   "metadata": {
    "hidden": true
   },
   "outputs": [],
   "source": [
    "df_avg['Date'] = df_avg.apply(date, axis=1)\n",
    "df_avg['Date'] = pd.to_datetime(df_avg['Date'])"
   ]
  },
  {
   "cell_type": "code",
   "execution_count": 95,
   "metadata": {
    "hidden": true
   },
   "outputs": [],
   "source": [
    "df_avg['Week day'] = df_avg.apply(get_week_day_1, axis=1)"
   ]
  },
  {
   "cell_type": "code",
   "execution_count": 98,
   "metadata": {
    "hidden": true
   },
   "outputs": [],
   "source": [
    "df_avg['Weekend'] = df_avg.apply(weekends, axis=1)"
   ]
  },
  {
   "cell_type": "code",
   "execution_count": 99,
   "metadata": {
    "hidden": true
   },
   "outputs": [
    {
     "data": {
      "text/html": [
       "<div>\n",
       "<style scoped>\n",
       "    .dataframe tbody tr th:only-of-type {\n",
       "        vertical-align: middle;\n",
       "    }\n",
       "\n",
       "    .dataframe tbody tr th {\n",
       "        vertical-align: top;\n",
       "    }\n",
       "\n",
       "    .dataframe thead th {\n",
       "        text-align: right;\n",
       "    }\n",
       "</style>\n",
       "<table border=\"1\" class=\"dataframe\">\n",
       "  <thead>\n",
       "    <tr style=\"text-align: right;\">\n",
       "      <th></th>\n",
       "      <th>Month</th>\n",
       "      <th>Day</th>\n",
       "      <th>vol_proc</th>\n",
       "      <th>occ_proc</th>\n",
       "      <th>spd_proc</th>\n",
       "      <th>Date</th>\n",
       "      <th>Week day</th>\n",
       "      <th>Weekend</th>\n",
       "    </tr>\n",
       "  </thead>\n",
       "  <tbody>\n",
       "    <tr>\n",
       "      <td>0</td>\n",
       "      <td>1</td>\n",
       "      <td>1</td>\n",
       "      <td>62.991804</td>\n",
       "      <td>2.407073</td>\n",
       "      <td>26.371220</td>\n",
       "      <td>2018-01-01</td>\n",
       "      <td>0</td>\n",
       "      <td>0</td>\n",
       "    </tr>\n",
       "    <tr>\n",
       "      <td>1</td>\n",
       "      <td>1</td>\n",
       "      <td>2</td>\n",
       "      <td>143.364669</td>\n",
       "      <td>6.621390</td>\n",
       "      <td>23.954374</td>\n",
       "      <td>2018-01-02</td>\n",
       "      <td>1</td>\n",
       "      <td>0</td>\n",
       "    </tr>\n",
       "    <tr>\n",
       "      <td>2</td>\n",
       "      <td>1</td>\n",
       "      <td>3</td>\n",
       "      <td>153.381370</td>\n",
       "      <td>7.579103</td>\n",
       "      <td>23.024725</td>\n",
       "      <td>2018-01-03</td>\n",
       "      <td>2</td>\n",
       "      <td>0</td>\n",
       "    </tr>\n",
       "    <tr>\n",
       "      <td>3</td>\n",
       "      <td>1</td>\n",
       "      <td>4</td>\n",
       "      <td>65.443483</td>\n",
       "      <td>2.336598</td>\n",
       "      <td>25.392553</td>\n",
       "      <td>2018-01-04</td>\n",
       "      <td>3</td>\n",
       "      <td>0</td>\n",
       "    </tr>\n",
       "    <tr>\n",
       "      <td>4</td>\n",
       "      <td>1</td>\n",
       "      <td>5</td>\n",
       "      <td>105.745695</td>\n",
       "      <td>4.489989</td>\n",
       "      <td>24.254795</td>\n",
       "      <td>2018-01-05</td>\n",
       "      <td>4</td>\n",
       "      <td>0</td>\n",
       "    </tr>\n",
       "    <tr>\n",
       "      <td>...</td>\n",
       "      <td>...</td>\n",
       "      <td>...</td>\n",
       "      <td>...</td>\n",
       "      <td>...</td>\n",
       "      <td>...</td>\n",
       "      <td>...</td>\n",
       "      <td>...</td>\n",
       "      <td>...</td>\n",
       "    </tr>\n",
       "    <tr>\n",
       "      <td>360</td>\n",
       "      <td>12</td>\n",
       "      <td>27</td>\n",
       "      <td>129.337107</td>\n",
       "      <td>5.848969</td>\n",
       "      <td>25.832759</td>\n",
       "      <td>2018-12-27</td>\n",
       "      <td>3</td>\n",
       "      <td>0</td>\n",
       "    </tr>\n",
       "    <tr>\n",
       "      <td>361</td>\n",
       "      <td>12</td>\n",
       "      <td>28</td>\n",
       "      <td>134.697909</td>\n",
       "      <td>6.221224</td>\n",
       "      <td>25.757006</td>\n",
       "      <td>2018-12-28</td>\n",
       "      <td>4</td>\n",
       "      <td>0</td>\n",
       "    </tr>\n",
       "    <tr>\n",
       "      <td>362</td>\n",
       "      <td>12</td>\n",
       "      <td>29</td>\n",
       "      <td>103.086081</td>\n",
       "      <td>4.480585</td>\n",
       "      <td>27.089117</td>\n",
       "      <td>2018-12-29</td>\n",
       "      <td>5</td>\n",
       "      <td>1</td>\n",
       "    </tr>\n",
       "    <tr>\n",
       "      <td>363</td>\n",
       "      <td>12</td>\n",
       "      <td>30</td>\n",
       "      <td>86.862213</td>\n",
       "      <td>3.854772</td>\n",
       "      <td>27.226669</td>\n",
       "      <td>2018-12-30</td>\n",
       "      <td>6</td>\n",
       "      <td>1</td>\n",
       "    </tr>\n",
       "    <tr>\n",
       "      <td>364</td>\n",
       "      <td>12</td>\n",
       "      <td>31</td>\n",
       "      <td>117.961227</td>\n",
       "      <td>5.404448</td>\n",
       "      <td>25.859908</td>\n",
       "      <td>2018-12-31</td>\n",
       "      <td>0</td>\n",
       "      <td>0</td>\n",
       "    </tr>\n",
       "  </tbody>\n",
       "</table>\n",
       "<p>365 rows × 8 columns</p>\n",
       "</div>"
      ],
      "text/plain": [
       "     Month  Day    vol_proc  occ_proc   spd_proc       Date  Week day  Weekend\n",
       "0        1    1   62.991804  2.407073  26.371220 2018-01-01         0        0\n",
       "1        1    2  143.364669  6.621390  23.954374 2018-01-02         1        0\n",
       "2        1    3  153.381370  7.579103  23.024725 2018-01-03         2        0\n",
       "3        1    4   65.443483  2.336598  25.392553 2018-01-04         3        0\n",
       "4        1    5  105.745695  4.489989  24.254795 2018-01-05         4        0\n",
       "..     ...  ...         ...       ...        ...        ...       ...      ...\n",
       "360     12   27  129.337107  5.848969  25.832759 2018-12-27         3        0\n",
       "361     12   28  134.697909  6.221224  25.757006 2018-12-28         4        0\n",
       "362     12   29  103.086081  4.480585  27.089117 2018-12-29         5        1\n",
       "363     12   30   86.862213  3.854772  27.226669 2018-12-30         6        1\n",
       "364     12   31  117.961227  5.404448  25.859908 2018-12-31         0        0\n",
       "\n",
       "[365 rows x 8 columns]"
      ]
     },
     "execution_count": 99,
     "metadata": {},
     "output_type": "execute_result"
    }
   ],
   "source": [
    "df_avg"
   ]
  },
  {
   "cell_type": "markdown",
   "metadata": {
    "heading_collapsed": true,
    "hidden": true
   },
   "source": [
    "### Saving intermediate data"
   ]
  },
  {
   "cell_type": "code",
   "execution_count": 117,
   "metadata": {
    "hidden": true
   },
   "outputs": [],
   "source": [
    "df_avg.to_csv('main_data_with_codes_dates_and_coordinates_averaged_by_each_day.csv')"
   ]
  },
  {
   "cell_type": "markdown",
   "metadata": {
    "heading_collapsed": true,
    "hidden": true
   },
   "source": [
    "### Plot Vilnius city average transport volume during 2018"
   ]
  },
  {
   "cell_type": "code",
   "execution_count": 129,
   "metadata": {
    "hidden": true
   },
   "outputs": [
    {
     "data": {
      "text/plain": [
       "Text(0.5, 1, 'Volume over year in whole city')"
      ]
     },
     "execution_count": 129,
     "metadata": {},
     "output_type": "execute_result"
    },
    {
     "data": {
      "image/png": "[encoded data removed]",
      "text/plain": [
       "<Figure size 918.75x432 with 1 Axes>"
      ]
     },
     "metadata": {
      "needs_background": "light"
     },
     "output_type": "display_data"
    }
   ],
   "source": [
    "graph = sns.lmplot('Date', 'vol_proc', data = df_avg, fit_reg=False, hue='Weekend', height=6, aspect=2)\n",
    "graph.set_xticklabels(rotation=45)\n",
    "plt.title('Volume over year in whole city')"
   ]
  },
  {
   "cell_type": "code",
   "execution_count": 122,
   "metadata": {
    "hidden": true
   },
   "outputs": [],
   "source": [
    "df_avg_monthly = df_avg.groupby('Month')['vol_proc'].mean().reset_index()"
   ]
  },
  {
   "cell_type": "code",
   "execution_count": 134,
   "metadata": {
    "hidden": true
   },
   "outputs": [
    {
     "data": {
      "text/plain": [
       "Text(0.5, 1.0, 'Transport volume each month')"
      ]
     },
     "execution_count": 134,
     "metadata": {},
     "output_type": "execute_result"
    },
    {
     "data": {
      "image/png": "[encoded data removed]",
      "text/plain": [
       "<Figure size 1008x432 with 1 Axes>"
      ]
     },
     "metadata": {
      "needs_background": "light"
     },
     "output_type": "display_data"
    }
   ],
   "source": [
    "plt.figure(figsize=(14,6))\n",
    "sns.barplot('Month','vol_proc',data=df_avg_monthly).set_title('Transport volume each month')"
   ]
  },
  {
   "cell_type": "markdown",
   "metadata": {
    "hidden": true
   },
   "source": [
    "**1st conclusion**\n",
    "From the plots above we can see that average transport volume in the whole Vilnius city tends to decrease in winter and summer and increase in spring and autumn. Most accupied month - May, least - January. Alse it is clearly noticable that transport volume during working daygs is nearly twice as big as in weekends."
   ]
  },
  {
   "cell_type": "markdown",
   "metadata": {
    "heading_collapsed": true,
    "hidden": true
   },
   "source": [
    "## Vilnius city transport volume each hour in 2018"
   ]
  },
  {
   "cell_type": "markdown",
   "metadata": {
    "heading_collapsed": true,
    "hidden": true
   },
   "source": [
    "### Group by day"
   ]
  },
  {
   "cell_type": "code",
   "execution_count": 141,
   "metadata": {
    "hidden": true
   },
   "outputs": [],
   "source": [
    "df_avg_hour = df[['Hour','vol_proc','occ_proc','spd_proc']].groupby('Hour').mean().reset_index()"
   ]
  },
  {
   "cell_type": "code",
   "execution_count": 143,
   "metadata": {
    "hidden": true
   },
   "outputs": [
    {
     "data": {
      "text/plain": [
       "Text(0.5, 1.0, 'Transport volume each hour')"
      ]
     },
     "execution_count": 143,
     "metadata": {},
     "output_type": "execute_result"
    },
    {
     "data": {
      "image/png": "[encoded data removed]",
      "text/plain": [
       "<Figure size 1008x432 with 1 Axes>"
      ]
     },
     "metadata": {
      "needs_background": "light"
     },
     "output_type": "display_data"
    }
   ],
   "source": [
    "plt.figure(figsize=(14,6))\n",
    "sns.barplot('Hour','vol_proc',data=df_avg_hour).set_title('Transport volume each hour')"
   ]
  },
  {
   "cell_type": "markdown",
   "metadata": {
    "hidden": true
   },
   "source": [
    "**2nd conclusion**   \n",
    "As can be expected during peak hours (17PM - 18PM) transport volume is biggest. Then decresing trend is noticed till 4AM. After that volume starts increasing. "
   ]
  },
  {
   "cell_type": "markdown",
   "metadata": {
    "heading_collapsed": true,
    "hidden": true
   },
   "source": [
    "## Vilnius city transport volume during each week day"
   ]
  },
  {
   "cell_type": "code",
   "execution_count": 7,
   "metadata": {
    "hidden": true
   },
   "outputs": [],
   "source": [
    "df = pd.read_csv('main_data_with_codes_dates_and_coordinates.csv')"
   ]
  },
  {
   "cell_type": "code",
   "execution_count": 19,
   "metadata": {
    "hidden": true
   },
   "outputs": [],
   "source": [
    "df_avg_day = df[['Week day','vol_proc']].groupby('Week day').mean().reset_index()"
   ]
  },
  {
   "cell_type": "code",
   "execution_count": 12,
   "metadata": {
    "hidden": true
   },
   "outputs": [
    {
     "data": {
      "text/plain": [
       "Text(0.5, 1.0, 'Transport volume each day of the week')"
      ]
     },
     "execution_count": 12,
     "metadata": {},
     "output_type": "execute_result"
    },
    {
     "data": {
      "image/png": "[encoded data removed]",
      "text/plain": [
       "<Figure size 1008x432 with 1 Axes>"
      ]
     },
     "metadata": {
      "needs_background": "light"
     },
     "output_type": "display_data"
    }
   ],
   "source": [
    "plt.figure(figsize=(14,6))\n",
    "sns.barplot('Week day','vol_proc',data=df_avg_day).set_title('Transport volume each day of the week')"
   ]
  },
  {
   "cell_type": "code",
   "execution_count": 20,
   "metadata": {
    "hidden": true
   },
   "outputs": [],
   "source": [
    "df_avg_day['Week end'] = df_avg_day.apply(weekends, axis=1)"
   ]
  },
  {
   "cell_type": "code",
   "execution_count": 22,
   "metadata": {
    "hidden": true
   },
   "outputs": [],
   "source": [
    "df_avg_day = df_avg_day.groupby('Week end')['vol_proc'].mean().reset_index()"
   ]
  },
  {
   "cell_type": "code",
   "execution_count": 24,
   "metadata": {
    "hidden": true
   },
   "outputs": [
    {
     "data": {
      "text/plain": [
       "Text(0.5, 1.0, 'Transport volume each day of the week')"
      ]
     },
     "execution_count": 24,
     "metadata": {},
     "output_type": "execute_result"
    },
    {
     "data": {
      "image/png": "[encoded data removed]",
      "text/plain": [
       "<Figure size 1008x432 with 1 Axes>"
      ]
     },
     "metadata": {
      "needs_background": "light"
     },
     "output_type": "display_data"
    }
   ],
   "source": [
    "plt.figure(figsize=(14,6))\n",
    "sns.barplot('Week end','vol_proc',data=df_avg_day).set_title('Transport volume each day of the week')"
   ]
  },
  {
   "cell_type": "markdown",
   "metadata": {
    "hidden": true
   },
   "source": [
    "**3rd conclusion**   \n",
    "As we can see during weekends (5 and 6) transport volume is much lower compared to other days(working days). Most occupied days seems are monday and friday. "
   ]
  },
  {
   "cell_type": "markdown",
   "metadata": {
    "heading_collapsed": true,
    "hidden": true
   },
   "source": [
    "## Interactive maps"
   ]
  },
  {
   "cell_type": "markdown",
   "metadata": {
    "hidden": true
   },
   "source": [
    "### Plot detector density"
   ]
  },
  {
   "cell_type": "code",
   "execution_count": 130,
   "metadata": {
    "hidden": true
   },
   "outputs": [],
   "source": [
    "df_coordinates = pd.read_excel('Sankryzos_koordinatės.XLSX', sheet_name='Lapas1')"
   ]
  },
  {
   "cell_type": "code",
   "execution_count": 131,
   "metadata": {
    "hidden": true
   },
   "outputs": [],
   "source": [
    "df_coordinates['x'] = df_coordinates.apply(format_x, axis=1)\n",
    "df_coordinates['y'] = df_coordinates.apply(format_y, axis=1)"
   ]
  },
  {
   "cell_type": "code",
   "execution_count": 132,
   "metadata": {
    "hidden": true
   },
   "outputs": [
    {
     "data": {
      "text/plain": [
       "<folium.plugins.heat_map.HeatMap at 0x1aab284fd48>"
      ]
     },
     "execution_count": 132,
     "metadata": {},
     "output_type": "execute_result"
    }
   ],
   "source": [
    "m_1 = folium.Map(location=[54.697964, 25.300914], tiles='cartodbpositron', zoom_start=12.5)\n",
    "HeatMap(data=df_coordinates[['y', 'x']], radius=23).add_to(m_1)"
   ]
  },
  {
   "cell_type": "code",
   "execution_count": 133,
   "metadata": {
    "hidden": true
   },
   "outputs": [
    {
     "data": {
      "text/html": [
       "\n",
       "        <iframe\n",
       "            width=\"100%\"\n",
       "            height=\"500px\"\n",
       "            src=\"m_1.html\"\n",
       "            frameborder=\"0\"\n",
       "            allowfullscreen\n",
       "        ></iframe>\n",
       "        "
      ],
      "text/plain": [
       "<IPython.lib.display.IFrame at 0x1aab2840c48>"
      ]
     },
     "execution_count": 133,
     "metadata": {},
     "output_type": "execute_result"
    }
   ],
   "source": [
    "embed_map(m_1, 'm_1.html')"
   ]
  },
  {
   "cell_type": "markdown",
   "metadata": {
    "hidden": true
   },
   "source": [
    "**4th conclusion**   \n",
    "As can be expected biggest traffic light/detectors density locates around city center."
   ]
  },
  {
   "cell_type": "markdown",
   "metadata": {
    "hidden": true
   },
   "source": [
    "### Plot vol_proc distribution"
   ]
  },
  {
   "cell_type": "code",
   "execution_count": 134,
   "metadata": {
    "hidden": true
   },
   "outputs": [],
   "source": [
    "df_group_code_mean = df.groupby('Code')['vol_proc'].mean().reset_index()"
   ]
  },
  {
   "cell_type": "code",
   "execution_count": 135,
   "metadata": {
    "hidden": true
   },
   "outputs": [],
   "source": [
    "df_coordinates['Node'] = df_coordinates.apply(get_code_coordinates, axis=1)"
   ]
  },
  {
   "cell_type": "code",
   "execution_count": 136,
   "metadata": {
    "hidden": true
   },
   "outputs": [],
   "source": [
    "df_coordinates.rename(columns={'Node': 'Code'}, inplace=True)"
   ]
  },
  {
   "cell_type": "code",
   "execution_count": 137,
   "metadata": {
    "hidden": true
   },
   "outputs": [],
   "source": [
    "df_coordinates['Code'] = df_coordinates['Code'].astype(int)"
   ]
  },
  {
   "cell_type": "code",
   "execution_count": 138,
   "metadata": {
    "hidden": true
   },
   "outputs": [],
   "source": [
    "df_map = df_group_code_mean.merge(df_coordinates, on='Code', how='left')"
   ]
  },
  {
   "cell_type": "code",
   "execution_count": 142,
   "metadata": {
    "hidden": true
   },
   "outputs": [],
   "source": [
    "df_map = df_map.dropna()"
   ]
  },
  {
   "cell_type": "code",
   "execution_count": 143,
   "metadata": {
    "hidden": true
   },
   "outputs": [
    {
     "data": {
      "text/html": [
       "<div>\n",
       "<style scoped>\n",
       "    .dataframe tbody tr th:only-of-type {\n",
       "        vertical-align: middle;\n",
       "    }\n",
       "\n",
       "    .dataframe tbody tr th {\n",
       "        vertical-align: top;\n",
       "    }\n",
       "\n",
       "    .dataframe thead th {\n",
       "        text-align: right;\n",
       "    }\n",
       "</style>\n",
       "<table border=\"1\" class=\"dataframe\">\n",
       "  <thead>\n",
       "    <tr style=\"text-align: right;\">\n",
       "      <th></th>\n",
       "      <th>Code</th>\n",
       "      <th>vol_proc</th>\n",
       "      <th>x</th>\n",
       "      <th>y</th>\n",
       "    </tr>\n",
       "  </thead>\n",
       "  <tbody>\n",
       "    <tr>\n",
       "      <td>0</td>\n",
       "      <td>101</td>\n",
       "      <td>178.878025</td>\n",
       "      <td>25.279870</td>\n",
       "      <td>54.690814</td>\n",
       "    </tr>\n",
       "    <tr>\n",
       "      <td>1</td>\n",
       "      <td>102</td>\n",
       "      <td>216.736442</td>\n",
       "      <td>25.276525</td>\n",
       "      <td>54.691038</td>\n",
       "    </tr>\n",
       "    <tr>\n",
       "      <td>2</td>\n",
       "      <td>103</td>\n",
       "      <td>238.133280</td>\n",
       "      <td>25.273410</td>\n",
       "      <td>54.691588</td>\n",
       "    </tr>\n",
       "    <tr>\n",
       "      <td>3</td>\n",
       "      <td>104</td>\n",
       "      <td>136.800074</td>\n",
       "      <td>25.271703</td>\n",
       "      <td>54.692274</td>\n",
       "    </tr>\n",
       "    <tr>\n",
       "      <td>4</td>\n",
       "      <td>105</td>\n",
       "      <td>111.848687</td>\n",
       "      <td>25.270295</td>\n",
       "      <td>54.691222</td>\n",
       "    </tr>\n",
       "    <tr>\n",
       "      <td>...</td>\n",
       "      <td>...</td>\n",
       "      <td>...</td>\n",
       "      <td>...</td>\n",
       "      <td>...</td>\n",
       "    </tr>\n",
       "    <tr>\n",
       "      <td>230</td>\n",
       "      <td>1065</td>\n",
       "      <td>125.541273</td>\n",
       "      <td>25.280043</td>\n",
       "      <td>54.752435</td>\n",
       "    </tr>\n",
       "    <tr>\n",
       "      <td>231</td>\n",
       "      <td>1066</td>\n",
       "      <td>172.016830</td>\n",
       "      <td>25.228338</td>\n",
       "      <td>54.716553</td>\n",
       "    </tr>\n",
       "    <tr>\n",
       "      <td>232</td>\n",
       "      <td>1070</td>\n",
       "      <td>189.411200</td>\n",
       "      <td>25.304856</td>\n",
       "      <td>54.711292</td>\n",
       "    </tr>\n",
       "    <tr>\n",
       "      <td>233</td>\n",
       "      <td>1072</td>\n",
       "      <td>127.238211</td>\n",
       "      <td>25.411414</td>\n",
       "      <td>54.688383</td>\n",
       "    </tr>\n",
       "    <tr>\n",
       "      <td>236</td>\n",
       "      <td>1076</td>\n",
       "      <td>203.258452</td>\n",
       "      <td>25.278978</td>\n",
       "      <td>54.733753</td>\n",
       "    </tr>\n",
       "  </tbody>\n",
       "</table>\n",
       "<p>232 rows × 4 columns</p>\n",
       "</div>"
      ],
      "text/plain": [
       "     Code    vol_proc          x          y\n",
       "0     101  178.878025  25.279870  54.690814\n",
       "1     102  216.736442  25.276525  54.691038\n",
       "2     103  238.133280  25.273410  54.691588\n",
       "3     104  136.800074  25.271703  54.692274\n",
       "4     105  111.848687  25.270295  54.691222\n",
       "..    ...         ...        ...        ...\n",
       "230  1065  125.541273  25.280043  54.752435\n",
       "231  1066  172.016830  25.228338  54.716553\n",
       "232  1070  189.411200  25.304856  54.711292\n",
       "233  1072  127.238211  25.411414  54.688383\n",
       "236  1076  203.258452  25.278978  54.733753\n",
       "\n",
       "[232 rows x 4 columns]"
      ]
     },
     "execution_count": 143,
     "metadata": {},
     "output_type": "execute_result"
    }
   ],
   "source": [
    "df_map"
   ]
  },
  {
   "cell_type": "code",
   "execution_count": 144,
   "metadata": {
    "hidden": true
   },
   "outputs": [],
   "source": [
    "m_2 = folium.Map(location=[54.690814, 25.279870], tiles='cartodbpositron', zoom_start=20)\n",
    "for i in range(0,len(df_map)):\n",
    "    folium.Circle(\n",
    "        location=[df_map.iloc[i]['y'], df_map.iloc[i]['x']],\n",
    "        radius=(df_map.iloc[i]['vol_proc']/6)**1.5,\n",
    "        color=color_producer(df_map.iloc[i]['vol_proc'])).add_to(m_2)"
   ]
  },
  {
   "cell_type": "markdown",
   "metadata": {
    "hidden": true
   },
   "source": [
    "**Circle radius is proportional to transport volume in that crossroad.**  \n",
    "Green - low volume  \n",
    "Orange - medium volume  \n",
    "Green - big volume  \n",
    "Blue - very big volume  "
   ]
  },
  {
   "cell_type": "code",
   "execution_count": 145,
   "metadata": {
    "hidden": true
   },
   "outputs": [
    {
     "data": {
      "text/html": [
       "\n",
       "        <iframe\n",
       "            width=\"100%\"\n",
       "            height=\"500px\"\n",
       "            src=\"q_2.html\"\n",
       "            frameborder=\"0\"\n",
       "            allowfullscreen\n",
       "        ></iframe>\n",
       "        "
      ],
      "text/plain": [
       "<IPython.lib.display.IFrame at 0x1aab290adc8>"
      ]
     },
     "execution_count": 145,
     "metadata": {},
     "output_type": "execute_result"
    }
   ],
   "source": [
    "embed_map(m_2, 'q_2.html')"
   ]
  },
  {
   "cell_type": "markdown",
   "metadata": {
    "hidden": true
   },
   "source": [
    "**5th conclusion**\n",
    "From above interactive map we can see that biggest traffic volume tends to appear in Antakalnis street, around city center. One of the biggest circle locates in Ozas street from Valakampis bridge. It tells that one of the biggest transport transparency appears there, Darius ir Gireno street as well."
   ]
  }
 ],
 "metadata": {
  "kernelspec": {
   "display_name": "Python 3",
   "language": "python",
   "name": "python3"
  },
  "language_info": {
   "codemirror_mode": {
    "name": "ipython",
    "version": 3
   },
   "file_extension": ".py",
   "mimetype": "text/x-python",
   "name": "python",
   "nbconvert_exporter": "python",
   "pygments_lexer": "ipython3",
   "version": "3.7.4"
  },
  "toc": {
   "base_numbering": 1,
   "nav_menu": {},
   "number_sections": true,
   "sideBar": true,
   "skip_h1_title": false,
   "title_cell": "Table of Contents",
   "title_sidebar": "Contents",
   "toc_cell": false,
   "toc_position": {
    "height": "calc(100% - 180px)",
    "left": "10px",
    "top": "150px",
    "width": "223.57px"
   },
   "toc_section_display": true,
   "toc_window_display": true
  }
 },
 "nbformat": 4,
 "nbformat_minor": 2
}
